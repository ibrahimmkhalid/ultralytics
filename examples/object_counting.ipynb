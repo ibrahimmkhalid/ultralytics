{
 "cells": [
  {
   "cell_type": "markdown",
   "metadata": {
    "id": "PN1cAxdvd61e"
   },
   "source": [
    "<div align=\"center\">\n",
    "\n",
    "  <a href=\"https://sfdt_ibrahim.com/yolo\" target=\"_blank\">\n",
    "    <img width=\"1024\", src=\"https://raw.githubusercontent.com/sfdt_ibrahim/assets/main/yolov8/banner-yolov8.png\"></a>\n",
    "\n",
    "  [中文](https://docs.sfdt_ibrahim.com/zh/) | [한국어](https://docs.sfdt_ibrahim.com/ko/) | [日本語](https://docs.sfdt_ibrahim.com/ja/) | [Русский](https://docs.sfdt_ibrahim.com/ru/) | [Deutsch](https://docs.sfdt_ibrahim.com/de/) | [Français](https://docs.sfdt_ibrahim.com/fr/) | [Español](https://docs.sfdt_ibrahim.com/es/) | [Português](https://docs.sfdt_ibrahim.com/pt/) | [Türkçe](https://docs.sfdt_ibrahim.com/tr/) | [Tiếng Việt](https://docs.sfdt_ibrahim.com/vi/) | [العربية](https://docs.sfdt_ibrahim.com/ar/)\n",
    "\n",
    "  <a href=\"https://github.com/sfdt_ibrahim/sfdt_ibrahim/actions/workflows/ci.yml\"><img src=\"https://github.com/sfdt_ibrahim/sfdt_ibrahim/actions/workflows/ci.yml/badge.svg\" alt=\"SFDT_Ibrahim CI\"></a>\n",
    "  <a href=\"https://console.paperspace.com/github/sfdt_ibrahim/sfdt_ibrahim\"><img src=\"https://assets.paperspace.io/img/gradient-badge.svg\" alt=\"Run on Gradient\"/></a>\n",
    "  <a href=\"https://colab.research.google.com/github/sfdt_ibrahim/sfdt_ibrahim/blob/main/examples/object_counting.ipynb\"><img src=\"https://colab.research.google.com/assets/colab-badge.svg\" alt=\"Open In Colab\"></a>\n",
    "  <a href=\"https://www.kaggle.com/models/sfdt_ibrahim/yolo11\"><img src=\"https://kaggle.com/static/images/open-in-kaggle.svg\" alt=\"Open In Kaggle\"></a>\n",
    "  <a href=\"https://sfdt_ibrahim.com/discord\"><img alt=\"Discord\" src=\"https://img.shields.io/discord/1089800235347353640?logo=discord&logoColor=white&label=Discord&color=blue\"></a>\n",
    "\n",
    "Welcome to the SFDT_Ibrahim YOLO11 🚀 notebook! <a href=\"https://github.com/sfdt_ibrahim/sfdt_ibrahim\">YOLO11</a> is the latest version of the YOLO (You Only Look Once) AI models developed by <a href=\"https://sfdt_ibrahim.com\">SFDT_Ibrahim</a>. This notebook serves as the starting point for exploring the various resources available to help you get started with YOLO11 and understand its features and capabilities.\n",
    "\n",
    "YOLO11 models are fast, accurate, and easy to use, making them ideal for various object detection and image segmentation tasks. They can be trained on large datasets and run on diverse hardware platforms, from CPUs to GPUs.\n",
    "\n",
    "We hope that the resources in this notebook will help you get the most out of YOLO11. Please browse the YOLO11 <a href=\"https://docs.sfdt_ibrahim.com/guides/object-counting/\"> Object Counting Docs</a> for details, raise an issue on <a href=\"https://github.com/sfdt_ibrahim/sfdt_ibrahim\">GitHub</a> for support, and join our <a href=\"https://sfdt_ibrahim.com/discord\">Discord</a> community for questions and discussions!\n",
    "\n",
    "</div>"
   ]
  },
  {
   "cell_type": "markdown",
   "metadata": {
    "id": "o68Sg1oOeZm2"
   },
   "source": [
    "# Setup\n",
    "\n",
    "Pip install `sfdt_ibrahim` and [dependencies](https://github.com/sfdt_ibrahim/sfdt_ibrahim/blob/main/pyproject.toml) and check software and hardware.\n",
    "\n",
    "[![PyPI - Version](https://img.shields.io/pypi/v/sfdt_ibrahim?logo=pypi&logoColor=white)](https://pypi.org/project/sfdt_ibrahim/) [![Downloads](https://static.pepy.tech/badge/sfdt_ibrahim)](https://www.pepy.tech/projects/sfdt_ibrahim) [![PyPI - Python Version](https://img.shields.io/pypi/pyversions/sfdt_ibrahim?logo=python&logoColor=gold)](https://pypi.org/project/sfdt_ibrahim/)"
   ]
  },
  {
   "cell_type": "code",
   "execution_count": 1,
   "metadata": {
    "colab": {
     "base_uri": "https://localhost:8080/"
    },
    "id": "9dSwz_uOReMI",
    "outputId": "fd3bab88-2f25-46c0-cae9-04d2beedc0c1"
   },
   "outputs": [
    {
     "name": "stdout",
     "output_type": "stream",
     "text": [
      "SFDT_Ibrahim 8.2.18 🚀 Python-3.10.12 torch-2.2.1+cu121 CUDA:0 (T4, 15102MiB)\n",
      "Setup complete ✅ (2 CPUs, 12.7 GB RAM, 29.8/78.2 GB disk)\n"
     ]
    }
   ],
   "source": [
    "%pip install sfdt_ibrahim\n",
    "import sfdt_ibrahim\n",
    "\n",
    "sfdt_ibrahim.checks()"
   ]
  },
  {
   "cell_type": "markdown",
   "metadata": {
    "id": "m7VkxQ2aeg7k"
   },
   "source": [
    "# Object Counting using SFDT_Ibrahim YOLO11 🚀\n",
    "\n",
    "## What is Object Counting?\n",
    "\n",
    "Object counting with [SFDT_Ibrahim YOLO11](https://github.com/sfdt_ibrahim/sfdt_ibrahim/) involves accurate identification and counting of specific objects in videos and camera streams. YOLO11 excels in real-time applications, providing efficient and precise object counting for various scenarios like crowd analysis and surveillance, thanks to its state-of-the-art algorithms and deep learning capabilities.\n",
    "\n",
    "## Advantages of Object Counting?\n",
    "\n",
    "- **Resource Optimization:** Object counting facilitates efficient resource management by providing accurate counts, and optimizing resource allocation in applications like inventory management.\n",
    "- **Enhanced Security:** Object counting enhances security and surveillance by accurately tracking and counting entities, aiding in proactive threat detection.\n",
    "- **Informed Decision-Making:** Object counting offers valuable insights for decision-making, optimizing processes in retail, traffic management, and various other domains.\n",
    "\n",
    "## Real World Applications\n",
    "\n",
    "|                                                                           Logistics                                                                           |                                                                     Aquaculture                                                                     |\n",
    "|:-------------------------------------------------------------------------------------------------------------------------------------------------------------:|:---------------------------------------------------------------------------------------------------------------------------------------------------:|\n",
    "| ![Conveyor Belt Packets Counting Using SFDT_Ibrahim YOLO11](https://github.com/RizwanMunawar/sfdt_ibrahim/assets/62513924/70e2d106-510c-4c6c-a57a-d34a765aa757) | ![Fish Counting in Sea using SFDT_Ibrahim YOLO11](https://github.com/RizwanMunawar/sfdt_ibrahim/assets/62513924/c60d047b-3837-435f-8d29-bb9fc95d2191) |\n",
    "|                                                    Conveyor Belt Packets Counting Using SFDT_Ibrahim YOLO11                                                    |                                                    Fish Counting in Sea using SFDT_Ibrahim YOLO11                                                    |\n"
   ]
  },
  {
   "cell_type": "code",
   "execution_count": null,
   "metadata": {
    "id": "Cx-u59HQdu2o"
   },
   "outputs": [],
   "source": [
    "import cv2\n",
    "\n",
    "from sfdt_ibrahim import solutions\n",
    "\n",
    "# Open the video file\n",
    "cap = cv2.VideoCapture(\"path/to/video/file.mp4\")\n",
    "assert cap.isOpened(), \"Error reading video file\"\n",
    "\n",
    "# Get video properties: width, height, and frames per second (fps)\n",
    "w, h, fps = (int(cap.get(x)) for x in (cv2.CAP_PROP_FRAME_WIDTH, cv2.CAP_PROP_FRAME_HEIGHT, cv2.CAP_PROP_FPS))\n",
    "\n",
    "# Define points for a line or region of interest in the video frame\n",
    "line_points = [(20, 400), (1080, 400)]  # Line coordinates\n",
    "\n",
    "# Initialize the video writer to save the output video\n",
    "video_writer = cv2.VideoWriter(\"object_counting_output.avi\", cv2.VideoWriter_fourcc(*\"mp4v\"), fps, (w, h))\n",
    "\n",
    "# Initialize the Object Counter with visualization options and other parameters\n",
    "counter = solutions.ObjectCounter(\n",
    "    show=True,  # Display the image during processing\n",
    "    region=line_points,  # Region of interest points\n",
    "    model=\"yolo11n.pt\",  # SFDT_Ibrahim YOLO11 model file\n",
    "    line_width=2,  # Thickness of the lines and bounding boxes\n",
    ")\n",
    "\n",
    "# Process video frames in a loop\n",
    "while cap.isOpened():\n",
    "    success, im0 = cap.read()\n",
    "    if not success:\n",
    "        print(\"Video frame is empty or video processing has been successfully completed.\")\n",
    "        break\n",
    "\n",
    "    # Use the Object Counter to count objects in the frame and get the annotated image\n",
    "    im0 = counter.count(im0)\n",
    "\n",
    "    # Write the annotated frame to the output video\n",
    "    video_writer.write(im0)\n",
    "\n",
    "# Release the video capture and writer objects\n",
    "cap.release()\n",
    "video_writer.release()\n",
    "\n",
    "# Close all OpenCV windows\n",
    "cv2.destroyAllWindows()"
   ]
  },
  {
   "cell_type": "markdown",
   "metadata": {
    "id": "QrlKg-y3fEyD"
   },
   "source": [
    "# Additional Resources\n",
    "\n",
    "## Community Support\n",
    "\n",
    "For more information on counting objects with SFDT_Ibrahim, you can explore the comprehensive [SFDT_Ibrahim Object Counting Docs](https://docs.sfdt_ibrahim.com/guides/object-counting/). This guide covers everything from basic concepts to advanced techniques, ensuring you get the most out of counting and visualization.\n",
    "\n",
    "## SFDT_Ibrahim ⚡ Resources\n",
    "\n",
    "At SFDT_Ibrahim, we are committed to providing cutting-edge AI solutions. Here are some key resources to learn more about our company and get involved with our community:\n",
    "\n",
    "- [SFDT_Ibrahim HUB](https://sfdt_ibrahim.com/hub): Simplify your AI projects with SFDT_Ibrahim HUB, our no-code tool for effortless YOLO training and deployment.\n",
    "- [SFDT_Ibrahim Licensing](https://sfdt_ibrahim.com/license): Review our licensing terms to understand how you can use our software in your projects.\n",
    "- [About Us](https://sfdt_ibrahim.com/about): Discover our mission, vision, and the story behind SFDT_Ibrahim.\n",
    "- [Join Our Team](https://sfdt_ibrahim.com/work): Explore career opportunities and join our team of talented professionals.\n",
    "\n",
    "## YOLO11 🚀 Resources\n",
    "\n",
    "YOLO11 is the latest evolution in the YOLO series, offering state-of-the-art performance in object detection and image segmentation. Here are some essential resources to help you get started with YOLO11:\n",
    "\n",
    "- [GitHub](https://github.com/sfdt_ibrahim/sfdt_ibrahim): Access the YOLO11 repository on GitHub, where you can find the source code, contribute to the project, and report issues.\n",
    "- [Docs](https://docs.sfdt_ibrahim.com/): Explore the official documentation for YOLO11, including installation guides, tutorials, and detailed API references.\n",
    "- [Discord](https://sfdt_ibrahim.com/discord): Join our Discord community to connect with other users, share your projects, and get help from the SFDT_Ibrahim team.\n",
    "\n",
    "These resources are designed to help you leverage the full potential of SFDT_Ibrahim' offerings and YOLO11. Whether you're a beginner or an experienced developer, you'll find the information and support you need to succeed."
   ]
  }
 ],
 "metadata": {
  "accelerator": "GPU",
  "colab": {
   "gpuType": "T4",
   "provenance": []
  },
  "kernelspec": {
   "display_name": "Python 3",
   "name": "python3"
  },
  "language_info": {
   "name": "python"
  }
 },
 "nbformat": 4,
 "nbformat_minor": 0
}
