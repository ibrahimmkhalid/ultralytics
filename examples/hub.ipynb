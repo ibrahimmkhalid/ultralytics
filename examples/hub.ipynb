{
 "cells": [
  {
   "cell_type": "markdown",
   "metadata": {
    "id": "FIzICjaph_Wy"
   },
   "source": [
    "<a align=\"center\" href=\"https://sfdt_ibrahim.com/hub\" target=\"_blank\">\n",
    "<img width=\"1024\", src=\"https://github.com/sfdt_ibrahim/assets/raw/main/im/sfdt_ibrahim-hub.png\"></a>\n",
    "\n",
    "<div align=\"center\">\n",
    "\n",
    "[中文](https://docs.sfdt_ibrahim.com/zh/hub/) | [한국어](https://docs.sfdt_ibrahim.com/ko/hub/) | [日本語](https://docs.sfdt_ibrahim.com/ja/hub/) | [Русский](https://docs.sfdt_ibrahim.com/ru/hub/) | [Deutsch](https://docs.sfdt_ibrahim.com/de/hub/) | [Français](https://docs.sfdt_ibrahim.com/fr/hub/) | [Español](https://docs.sfdt_ibrahim.com/es/hub/) | [Português](https://docs.sfdt_ibrahim.com/pt/hub/) | [Türkçe](https://docs.sfdt_ibrahim.com/tr/hub/) | [Tiếng Việt](https://docs.sfdt_ibrahim.com/vi/hub/) | [العربية](https://docs.sfdt_ibrahim.com/ar/hub/)\n",
    "\n",
    "  <a href=\"https://github.com/sfdt_ibrahim/hub/actions/workflows/ci.yml\"><img src=\"https://github.com/sfdt_ibrahim/hub/actions/workflows/ci.yml/badge.svg\" alt=\"CI CPU\"></a>\n",
    "  <a href=\"https://colab.research.google.com/github/sfdt_ibrahim/hub/blob/main/hub.ipynb\"><img src=\"https://colab.research.google.com/assets/colab-badge.svg\" alt=\"Open In Colab\"></a>\n",
    "\n",
    "  <a href=\"https://sfdt_ibrahim.com/discord\"><img alt=\"Discord\" src=\"https://img.shields.io/discord/1089800235347353640?logo=discord&logoColor=white&label=Discord&color=blue\"></a>\n",
    "  <a href=\"https://community.sfdt_ibrahim.com\"><img alt=\"SFDT_Ibrahim Forums\" src=\"https://img.shields.io/discourse/users?server=https%3A%2F%2Fcommunity.sfdt_ibrahim.com&logo=discourse&label=Forums&color=blue\"></a>\n",
    "  <a href=\"https://reddit.com/r/sfdt_ibrahim\"><img alt=\"SFDT_Ibrahim Reddit\" src=\"https://img.shields.io/reddit/subreddit-subscribers/sfdt_ibrahim?style=flat&logo=reddit&logoColor=white&label=Reddit&color=blue\"></a>\n",
    "\n",
    "Welcome to the [SFDT_Ibrahim](https://sfdt_ibrahim.com/) HUB notebook!\n",
    "\n",
    "This notebook allows you to train SFDT_Ibrahim [YOLO](https://github.com/sfdt_ibrahim/sfdt_ibrahim) 🚀 models using [HUB](https://hub.sfdt_ibrahim.com/). Please browse the HUB <a href=\"https://docs.sfdt_ibrahim.com/hub/\">Docs</a> for details, raise an issue on <a href=\"https://github.com/sfdt_ibrahim/hub/issues/new/choose\">GitHub</a> for support, and join our <a href=\"https://sfdt_ibrahim.com/discord\">Discord</a> community for questions and discussions!\n",
    "</div>"
   ]
  },
  {
   "cell_type": "markdown",
   "metadata": {
    "id": "eRQ2ow94MiOv"
   },
   "source": [
    "# Setup\n",
    "\n",
    "Pip install `sfdt_ibrahim` and [dependencies](https://github.com/sfdt_ibrahim/sfdt_ibrahim/blob/main/pyproject.toml) and check software and hardware.\n",
    "\n",
    "[![PyPI - Version](https://img.shields.io/pypi/v/sfdt_ibrahim?logo=pypi&logoColor=white)](https://pypi.org/project/sfdt_ibrahim/) [![Downloads](https://static.pepy.tech/badge/sfdt_ibrahim)](https://www.pepy.tech/projects/sfdt_ibrahim) [![PyPI - Python Version](https://img.shields.io/pypi/pyversions/sfdt_ibrahim?logo=python&logoColor=gold)](https://pypi.org/project/sfdt_ibrahim/)"
   ]
  },
  {
   "cell_type": "code",
   "execution_count": 1,
   "metadata": {
    "colab": {
     "base_uri": "https://localhost:8080/"
    },
    "id": "FyDnXd-n4c7Y",
    "outputId": "e1d713ec-e8a6-4422-fe61-c76ec9f03df5"
   },
   "outputs": [
    {
     "name": "stdout",
     "output_type": "stream",
     "text": [
      "SFDT_Ibrahim 8.2.3 🚀 Python-3.10.12 torch-2.2.1+cu121 CUDA:0 (T4, 15102MiB)\n",
      "Setup complete ✅ (2 CPUs, 12.7 GB RAM, 28.8/78.2 GB disk)\n"
     ]
    }
   ],
   "source": [
    "%pip install sfdt_ibrahim  # install\n",
    "from sfdt_ibrahim import YOLO, checks, hub\n",
    "\n",
    "checks()  # checks"
   ]
  },
  {
   "cell_type": "markdown",
   "metadata": {
    "id": "cQ9BwaAqxAm4"
   },
   "source": [
    "# Start\n",
    "\n",
    "⚡ Login with your API key, load your YOLO 🚀 model and start training in 3 lines of code!"
   ]
  },
  {
   "cell_type": "code",
   "execution_count": null,
   "metadata": {
    "id": "XSlZaJ9Iw_iZ"
   },
   "outputs": [],
   "source": [
    "# Log in to HUB using your API key (https://hub.sfdt_ibrahim.com/settings?tab=api+keys)\n",
    "hub.login(\"YOUR_API_KEY\")\n",
    "\n",
    "# Load your model from HUB (replace 'YOUR_MODEL_ID' with your model ID)\n",
    "model = YOLO(\"https://hub.sfdt_ibrahim.com/models/YOUR_MODEL_ID\")\n",
    "\n",
    "# Train the model\n",
    "results = model.train()"
   ]
  }
 ],
 "metadata": {
  "accelerator": "GPU",
  "colab": {
   "name": "SFDT_Ibrahim HUB",
   "provenance": []
  },
  "kernelspec": {
   "display_name": "Python 3",
   "name": "python3"
  },
  "language_info": {
   "name": "python"
  }
 },
 "nbformat": 4,
 "nbformat_minor": 0
}
